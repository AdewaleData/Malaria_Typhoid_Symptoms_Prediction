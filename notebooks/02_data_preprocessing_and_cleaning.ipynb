{
 "cells": [
  {
   "cell_type": "markdown",
   "id": "cbe64ec5",
   "metadata": {},
   "source": [
    "# 02 Data Preprocessing and Cleaning\n",
    "\n",
    "## 2.1. Handle Missing Values\n"
   ]
  },
  {
   "cell_type": "code",
   "execution_count": 3,
   "id": "72e6915e",
   "metadata": {},
   "outputs": [],
   "source": [
    "import pandas as pd"
   ]
  },
  {
   "cell_type": "code",
   "execution_count": 4,
   "id": "7c7941b7",
   "metadata": {},
   "outputs": [
    {
     "data": {
      "text/html": [
       "<div>\n",
       "<style scoped>\n",
       "    .dataframe tbody tr th:only-of-type {\n",
       "        vertical-align: middle;\n",
       "    }\n",
       "\n",
       "    .dataframe tbody tr th {\n",
       "        vertical-align: top;\n",
       "    }\n",
       "\n",
       "    .dataframe thead th {\n",
       "        text-align: right;\n",
       "    }\n",
       "</style>\n",
       "<table border=\"1\" class=\"dataframe\">\n",
       "  <thead>\n",
       "    <tr style=\"text-align: right;\">\n",
       "      <th></th>\n",
       "      <th>age</th>\n",
       "      <th>sex</th>\n",
       "      <th>fever</th>\n",
       "      <th>cold</th>\n",
       "      <th>rigor</th>\n",
       "      <th>fatigue</th>\n",
       "      <th>headache</th>\n",
       "      <th>bitter_tongue</th>\n",
       "      <th>vomiting</th>\n",
       "      <th>diarrhea</th>\n",
       "      <th>convulsion</th>\n",
       "      <th>anemia</th>\n",
       "      <th>jaundice</th>\n",
       "      <th>cocacola_urine</th>\n",
       "      <th>hypoglycemia</th>\n",
       "      <th>prostration</th>\n",
       "      <th>hyperpyrexia</th>\n",
       "      <th>diagnosis</th>\n",
       "    </tr>\n",
       "  </thead>\n",
       "  <tbody>\n",
       "    <tr>\n",
       "      <th>0</th>\n",
       "      <td>52</td>\n",
       "      <td>1</td>\n",
       "      <td>1</td>\n",
       "      <td>1</td>\n",
       "      <td>1</td>\n",
       "      <td>1</td>\n",
       "      <td>1</td>\n",
       "      <td>0</td>\n",
       "      <td>1</td>\n",
       "      <td>0</td>\n",
       "      <td>0</td>\n",
       "      <td>0</td>\n",
       "      <td>0</td>\n",
       "      <td>0</td>\n",
       "      <td>0</td>\n",
       "      <td>0</td>\n",
       "      <td>0</td>\n",
       "      <td>both</td>\n",
       "    </tr>\n",
       "    <tr>\n",
       "      <th>1</th>\n",
       "      <td>15</td>\n",
       "      <td>1</td>\n",
       "      <td>0</td>\n",
       "      <td>1</td>\n",
       "      <td>1</td>\n",
       "      <td>1</td>\n",
       "      <td>0</td>\n",
       "      <td>0</td>\n",
       "      <td>1</td>\n",
       "      <td>0</td>\n",
       "      <td>0</td>\n",
       "      <td>0</td>\n",
       "      <td>0</td>\n",
       "      <td>0</td>\n",
       "      <td>0</td>\n",
       "      <td>1</td>\n",
       "      <td>0</td>\n",
       "      <td>none</td>\n",
       "    </tr>\n",
       "    <tr>\n",
       "      <th>2</th>\n",
       "      <td>61</td>\n",
       "      <td>1</td>\n",
       "      <td>1</td>\n",
       "      <td>1</td>\n",
       "      <td>1</td>\n",
       "      <td>1</td>\n",
       "      <td>1</td>\n",
       "      <td>1</td>\n",
       "      <td>1</td>\n",
       "      <td>1</td>\n",
       "      <td>0</td>\n",
       "      <td>1</td>\n",
       "      <td>0</td>\n",
       "      <td>0</td>\n",
       "      <td>0</td>\n",
       "      <td>0</td>\n",
       "      <td>0</td>\n",
       "      <td>both</td>\n",
       "    </tr>\n",
       "    <tr>\n",
       "      <th>3</th>\n",
       "      <td>21</td>\n",
       "      <td>1</td>\n",
       "      <td>1</td>\n",
       "      <td>0</td>\n",
       "      <td>0</td>\n",
       "      <td>0</td>\n",
       "      <td>1</td>\n",
       "      <td>1</td>\n",
       "      <td>0</td>\n",
       "      <td>0</td>\n",
       "      <td>0</td>\n",
       "      <td>0</td>\n",
       "      <td>0</td>\n",
       "      <td>0</td>\n",
       "      <td>0</td>\n",
       "      <td>0</td>\n",
       "      <td>1</td>\n",
       "      <td>none</td>\n",
       "    </tr>\n",
       "    <tr>\n",
       "      <th>4</th>\n",
       "      <td>24</td>\n",
       "      <td>0</td>\n",
       "      <td>1</td>\n",
       "      <td>0</td>\n",
       "      <td>0</td>\n",
       "      <td>1</td>\n",
       "      <td>1</td>\n",
       "      <td>0</td>\n",
       "      <td>0</td>\n",
       "      <td>0</td>\n",
       "      <td>0</td>\n",
       "      <td>1</td>\n",
       "      <td>1</td>\n",
       "      <td>0</td>\n",
       "      <td>0</td>\n",
       "      <td>0</td>\n",
       "      <td>0</td>\n",
       "      <td>malaria</td>\n",
       "    </tr>\n",
       "  </tbody>\n",
       "</table>\n",
       "</div>"
      ],
      "text/plain": [
       "   age  sex  fever  cold  rigor  fatigue  headache  bitter_tongue  vomiting  \\\n",
       "0   52    1      1     1      1        1         1              0         1   \n",
       "1   15    1      0     1      1        1         0              0         1   \n",
       "2   61    1      1     1      1        1         1              1         1   \n",
       "3   21    1      1     0      0        0         1              1         0   \n",
       "4   24    0      1     0      0        1         1              0         0   \n",
       "\n",
       "   diarrhea  convulsion  anemia  jaundice  cocacola_urine  hypoglycemia  \\\n",
       "0         0           0       0         0               0             0   \n",
       "1         0           0       0         0               0             0   \n",
       "2         1           0       1         0               0             0   \n",
       "3         0           0       0         0               0             0   \n",
       "4         0           0       1         1               0             0   \n",
       "\n",
       "   prostration  hyperpyrexia diagnosis  \n",
       "0            0             0      both  \n",
       "1            1             0      none  \n",
       "2            0             0      both  \n",
       "3            0             1      none  \n",
       "4            0             0   malaria  "
      ]
     },
     "execution_count": 4,
     "metadata": {},
     "output_type": "execute_result"
    }
   ],
   "source": [
    "# Load the data\n",
    "df = pd.read_csv('C:\\\\Users\\\\555555\\\\Malaria-Typhoid-ML-Diagnosis\\\\data\\\\malaria_typhoid_multiclass.csv')\n",
    "df.head()"
   ]
  },
  {
   "cell_type": "code",
   "execution_count": 6,
   "id": "603425ab",
   "metadata": {},
   "outputs": [
    {
     "name": "stdout",
     "output_type": "stream",
     "text": [
      "Missing values:\n",
      " Series([], dtype: int64)\n"
     ]
    }
   ],
   "source": [
    "# Check missing values\n",
    "missing = df.isnull().sum()\n",
    "print(\"Missing values:\\n\", missing[missing > 0])\n",
    "# Define symptoms as all binary feature columns except age, sex, diagnosis\n",
    "symptoms = [\n",
    "    'fever', 'cold', 'rigor', 'fatigue', 'headache', 'bitter_tongue',\n",
    "    'vomiting', 'diarrhea', 'convulsion', 'anemia', 'jaundice',\n",
    "    'cocacola_urine', 'hypoglycemia', 'prostration', 'hyperpyrexia'\n",
    "]\n",
    "# Impute missing numerics with median, binaries with mode if any (should be none in synthetic data)\n",
    "if df['age'].isnull().sum() > 0:\n",
    "    df['age'].fillna(df['age'].median(), inplace=True)\n",
    "for col in symptoms:\n",
    "    if df[col].isnull().sum() > 0:\n",
    "        df[col].fillna(df[col].mode()[0], inplace=True)"
   ]
  },
  {
   "cell_type": "markdown",
   "id": "178d664e",
   "metadata": {},
   "source": [
    "## 2.2. Encode Categorical Variables"
   ]
  },
  {
   "cell_type": "code",
   "execution_count": 7,
   "id": "ab23ff32",
   "metadata": {},
   "outputs": [
    {
     "name": "stdout",
     "output_type": "stream",
     "text": [
      "Class mapping: {'both': np.int64(0), 'malaria': np.int64(1), 'none': np.int64(2), 'typhoid': np.int64(3)}\n"
     ]
    }
   ],
   "source": [
    "from sklearn.preprocessing import LabelEncoder\n",
    "\n",
    "# Encode diagnosis\n",
    "le = LabelEncoder()\n",
    "df['diagnosis_encoded'] = le.fit_transform(df['diagnosis'])\n",
    "print(\"Class mapping:\", dict(zip(le.classes_, le.transform(le.classes_))))"
   ]
  },
  {
   "cell_type": "markdown",
   "id": "888b89f4",
   "metadata": {},
   "source": [
    "## 2.3. Outlier Handling"
   ]
  },
  {
   "cell_type": "code",
   "execution_count": 9,
   "id": "96832628",
   "metadata": {},
   "outputs": [],
   "source": [
    "import numpy as np\n",
    "\n",
    "# Cap ages to reasonable human bounds\n",
    "df['age'] = np.clip(df['age'], 0, 99)"
   ]
  },
  {
   "cell_type": "markdown",
   "id": "2c853fbf",
   "metadata": {},
   "source": [
    "## 2.4. Feature Engineering"
   ]
  },
  {
   "cell_type": "code",
   "execution_count": 10,
   "id": "05cadec2",
   "metadata": {},
   "outputs": [],
   "source": [
    "# Age bins\n",
    "df['age_bin'] = pd.cut(df['age'], bins=[0,12,18,40,60,100], labels=False)\n",
    "\n",
    "# Example interaction: fever and headache\n",
    "df['fever_headache'] = df['fever'] * df['headache']"
   ]
  },
  {
   "cell_type": "markdown",
   "id": "292dee50",
   "metadata": {},
   "source": [
    "## 2.5. Train-Test Split\n"
   ]
  },
  {
   "cell_type": "code",
   "execution_count": 11,
   "id": "33b84678",
   "metadata": {},
   "outputs": [
    {
     "name": "stdout",
     "output_type": "stream",
     "text": [
      "Train shape: (1600, 19)\n",
      "Test shape: (400, 19)\n"
     ]
    }
   ],
   "source": [
    "from sklearn.model_selection import train_test_split\n",
    "\n",
    "features = [col for col in df.columns if col not in ['diagnosis', 'diagnosis_encoded']]\n",
    "X = df[features]\n",
    "y = df['diagnosis_encoded']\n",
    "\n",
    "X_train, X_test, y_train, y_test = train_test_split(\n",
    "    X, y, test_size=0.20, stratify=y, random_state=42\n",
    ")\n",
    "\n",
    "print(\"Train shape:\", X_train.shape)\n",
    "print(\"Test shape:\", X_test.shape)"
   ]
  },
  {
   "cell_type": "markdown",
   "id": "920e661d",
   "metadata": {},
   "source": [
    "## 2.6. Scaling"
   ]
  },
  {
   "cell_type": "code",
   "execution_count": 12,
   "id": "ab302c8d",
   "metadata": {},
   "outputs": [],
   "source": [
    "from sklearn.preprocessing import StandardScaler\n",
    "\n",
    "scaler = StandardScaler()\n",
    "X_train['age'] = scaler.fit_transform(X_train[['age']])\n",
    "X_test['age'] = scaler.transform(X_test[['age']])"
   ]
  },
  {
   "cell_type": "code",
   "execution_count": 16,
   "id": "0f2fcbc9",
   "metadata": {},
   "outputs": [],
   "source": [
    "# Save processed train/test data for use in the next notebook\n",
    "X_train.to_csv(r'C:\\Users\\555555\\Malaria-Typhoid-ML-Diagnosis\\data\\processed\\X_train_cleaned.csv', index=False)\n",
    "X_test.to_csv(r'C:\\Users\\555555\\Malaria-Typhoid-ML-Diagnosis\\data\\processed\\X_test_cleaned.csv', index=False)\n",
    "y_train.to_csv(r'C:\\Users\\555555\\Malaria-Typhoid-ML-Diagnosis\\data\\processed\\y_train_cleaned.csv', index=False)\n",
    "y_test.to_csv(r'C:\\Users\\555555\\Malaria-Typhoid-ML-Diagnosis\\data\\processed\\y_test_cleaned.csv', index=False)"
   ]
  },
  {
   "cell_type": "code",
   "execution_count": null,
   "id": "97e36eef",
   "metadata": {},
   "outputs": [],
   "source": []
  }
 ],
 "metadata": {
  "kernelspec": {
   "display_name": "Python 3 (bropt)",
   "language": "python",
   "name": "bropt"
  },
  "language_info": {
   "codemirror_mode": {
    "name": "ipython",
    "version": 3
   },
   "file_extension": ".py",
   "mimetype": "text/x-python",
   "name": "python",
   "nbconvert_exporter": "python",
   "pygments_lexer": "ipython3",
   "version": "3.12.11"
  }
 },
 "nbformat": 4,
 "nbformat_minor": 5
}

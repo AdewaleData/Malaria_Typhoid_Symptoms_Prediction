{
 "cells": [
  {
   "cell_type": "markdown",
   "id": "2cca81c0",
   "metadata": {},
   "source": [
    "# 05 Model Interpretation and Reporting\n",
    "\n",
    "In this section, we interpret the best-performing models, analyze feature contributions, and generate actionable insights using SHAP, partial dependence plots, and concise reporting.\n"
   ]
  },
  {
   "cell_type": "markdown",
   "id": "1ccfbdb2",
   "metadata": {},
   "source": [
    "## 5.1 Import Libraries and Reload Data/Models"
   ]
  },
  {
   "cell_type": "code",
   "execution_count": null,
   "id": "772333e2",
   "metadata": {},
   "outputs": [],
   "source": [
    "import shap\n",
    "import pandas as pd\n",
    "import matplotlib.pyplot as plt\n",
    "from sklearn.inspection import PartialDependenceDisplay\n",
    "import numpy as np\n",
    "\n",
    "X_test_sel = pd.read_csv('data/processed/X_test_selected.csv')\n",
    "y_test = pd.read_csv('data/processed/y_test.csv').squeeze()\n",
    "\n",
    "# Load the model\n",
    "import joblib\n",
    "model = joblib.load('models/gbm_model.pkl')\n"
   ]
  }
 ],
 "metadata": {
  "kernelspec": {
   "display_name": "Python 3 (bropt)",
   "language": "python",
   "name": "bropt"
  }
 },
 "nbformat": 4,
 "nbformat_minor": 5
}
